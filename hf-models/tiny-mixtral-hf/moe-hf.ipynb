{
 "cells": [
  {
   "cell_type": "code",
   "execution_count": 2,
   "id": "8c17878a",
   "metadata": {},
   "outputs": [],
   "source": [
    "import os\n",
    "import sys\n",
    "sys.path.append('../../')\n",
    "from configuration_tiny_mixtral import TinyMixtralConfig\n",
    "from modeling_tiny_mixtral import TinyMixtralForCausalLM\n",
    "from src.models.moe.config import ModelConfig\n",
    "import torch\n",
    "from dataclasses import asdict\n",
    "from transformers import AutoTokenizer\n",
    "import shutil"
   ]
  },
  {
   "cell_type": "code",
   "execution_count": null,
   "id": "080bb8ef",
   "metadata": {},
   "outputs": [
    {
     "name": "stderr",
     "output_type": "stream",
     "text": [
      "/var/folders/16/7k9wy23d4tgf_rq3jzhdr_yc0000gn/T/ipykernel_5826/2302560961.py:14: FutureWarning: You are using `torch.load` with `weights_only=False` (the current default value), which uses the default pickle module implicitly. It is possible to construct malicious pickle data which will execute arbitrary code during unpickling (See https://github.com/pytorch/pytorch/blob/main/SECURITY.md#untrusted-models for more details). In a future release, the default value for `weights_only` will be flipped to `True`. This limits the functions that could be executed during unpickling. Arbitrary objects will no longer be allowed to be loaded via this mode unless they are explicitly allowlisted by the user via `torch.serialization.add_safe_globals`. We recommend you start setting `weights_only=True` for any use case where you don't have full control of the loaded file. Please open an issue on GitHub for any issues related to this experimental feature.\n",
      "  checkpoint = torch.load(checkpoint_path, map_location='cpu')\n"
     ]
    }
   ],
   "source": [
    "def convert_checkpoint_to_hf(\n",
    "    checkpoint_path,\n",
    "    output_dir,\n",
    "    config_dict,\n",
    "    tokenizer_name=\"gpt2\"\n",
    "):\n",
    "    \"\"\"Convert your checkpoint to HuggingFace format\"\"\"\n",
    "    shutil.copy(\"modeling_tiny_mixtral.py\", f\"{output_dir}/modeling_tiny_mixtral.py\")\n",
    "    \n",
    "    config = TinyMixtralConfig(**config_dict)\n",
    "    \n",
    "    hf_model = TinyMixtralForCausalLM(config)\n",
    "    \n",
    "    # Load your checkpoint\n",
    "    checkpoint = torch.load(checkpoint_path, map_location='cpu')\n",
    "    hf_model.model.load_state_dict(checkpoint['model_state_dict'], strict=False)\n",
    "    \n",
    "    # Load tokenizer\n",
    "    tokenizer = AutoTokenizer.from_pretrained(tokenizer_name)\n",
    "    tokenizer.pad_token = tokenizer.eos_token\n",
    "    \n",
    "    # Save to HuggingFace format\n",
    "    hf_model.save_pretrained(output_dir)\n",
    "    tokenizer.save_pretrained(output_dir)\n",
    "    \n",
    "    return hf_model, tokenizer\n",
    "\n",
    "config_dict = asdict(ModelConfig())\n",
    "config_dict.pop('top_k', None)  # Remove top_k if it exists\n",
    "# Rename to the HF-expected name\n",
    "config_dict['top_k_experts'] = ModelConfig.top_k\n",
    "\n",
    "hf_model, tokenizer = convert_checkpoint_to_hf(\n",
    "    checkpoint_path=\"last_epoch_moe_1.pt\",\n",
    "    output_dir=\"./hf-mixtral-active\",\n",
    "    config_dict=config_dict\n",
    ")"
   ]
  },
  {
   "cell_type": "code",
   "execution_count": 3,
   "id": "bb4951e2",
   "metadata": {},
   "outputs": [
    {
     "name": "stdout",
     "output_type": "stream",
     "text": [
      "TinyMixtralForCausalLM(\n",
      "  (model): tiny_mixtral(\n",
      "    (tok_embedding): Embedding(50257, 768)\n",
      "    (layers): ModuleList(\n",
      "      (0-4): 5 x layer(\n",
      "        (attention): SimpleMultiHeadAttention(\n",
      "          (c_attn): Linear(in_features=768, out_features=2304, bias=False)\n",
      "          (c_proj): Linear(in_features=768, out_features=768, bias=False)\n",
      "          (attn_dropout): Dropout(p=0.0, inplace=False)\n",
      "          (resid_dropout): Dropout(p=0.0, inplace=False)\n",
      "        )\n",
      "        (ffn): SparseMOE(\n",
      "          (experts): ModuleList(\n",
      "            (0-7): 8 x SwiGLUFFN(\n",
      "              (w_1): Linear(in_features=768, out_features=384, bias=True)\n",
      "              (w_2): Linear(in_features=768, out_features=384, bias=True)\n",
      "              (out): Linear(in_features=384, out_features=768, bias=True)\n",
      "            )\n",
      "          )\n",
      "          (router): Linear(in_features=768, out_features=8, bias=True)\n",
      "        )\n",
      "        (attn_norm): RMSNorm()\n",
      "        (ffn_norm): RMSNorm()\n",
      "      )\n",
      "    )\n",
      "    (norm): RMSNorm()\n",
      "    (output): Linear(in_features=768, out_features=50257, bias=True)\n",
      "  )\n",
      ")\n"
     ]
    }
   ],
   "source": [
    "print(hf_model)"
   ]
  },
  {
   "cell_type": "code",
   "execution_count": null,
   "id": "8375bb33",
   "metadata": {},
   "outputs": [
    {
     "data": {
      "application/vnd.jupyter.widget-view+json": {
       "model_id": "17947ee946264f9eac513b3af77ce52e",
       "version_major": 2,
       "version_minor": 0
      },
      "text/plain": [
       "model.safetensors:   0%|          | 0.00/498M [00:00<?, ?B/s]"
      ]
     },
     "metadata": {},
     "output_type": "display_data"
    },
    {
     "name": "stdout",
     "output_type": "stream",
     "text": [
      "Model uploaded to: https://huggingface.co/Marmik/tiny-mixtral-5l-total\n"
     ]
    }
   ],
   "source": [
    "from huggingface_hub import HfApi, create_repo\n",
    "\n",
    "def push_to_hub(\n",
    "    local_dir=\"./hf-mixtral-active\",\n",
    "    repo_name=\"Marmik/tiny-mixtral-5l-active\",\n",
    "    private=False\n",
    "):\n",
    "    \n",
    "    # Create repository\n",
    "    create_repo(\n",
    "        repo_id=repo_name,\n",
    "        private=False,\n",
    "        exist_ok=True\n",
    "    )\n",
    "    \n",
    "    # Initialize API\n",
    "    api = HfApi()\n",
    "    \n",
    "    # Upload all files\n",
    "    api.upload_folder(\n",
    "        folder_path=local_dir,\n",
    "        repo_id=repo_name,\n",
    "        repo_type=\"model\"\n",
    "    )\n",
    "    \n",
    "    print(f\"Model uploaded to: https://huggingface.co/{repo_name}\")\n",
    "\n",
    "# Push to hub\n",
    "push_to_hub(\n",
    "    local_dir=\"./hf-mixtral-active\",\n",
    "    repo_name=\"Marmik/tiny-mixtral-5l-active\",\n",
    "    private=False\n",
    ")"
   ]
  },
  {
   "cell_type": "code",
   "execution_count": null,
   "id": "5c557742",
   "metadata": {},
   "outputs": [],
   "source": [
    "state = torch.load(\"last_epoch_moe_total_1.pt\", map_location=\"cpu\", weights_only=False)\n",
    "state_dict = state['model_state_dict']\n",
    "cfg   = TinyMixtralConfig()\n",
    "hf_model = TinyMixtralForCausalLM(cfg)\n",
    "missing, unexpected = hf_model.model.load_state_dict(state_dict, strict=False)\n",
    "print(missing)\n",
    "print(unexpected)"
   ]
  },
  {
   "cell_type": "code",
   "execution_count": null,
   "id": "87f5f871",
   "metadata": {},
   "outputs": [],
   "source": [
    "# Generate text using the model\n",
    "input_ids = torch.tensor([[68, 26, 1024, 38943, 500]])  # Example input tokens\n",
    "with torch.no_grad():\n",
    "    output = hf_model.generate(\n",
    "        input_ids=input_ids,\n",
    "        max_length=20,\n",
    "        do_sample=True,\n",
    "        temperature=0.7,\n",
    "        pad_token_id=50256\n",
    "    )\n",
    "print(\"Generated output:\", output)"
   ]
  },
  {
   "cell_type": "code",
   "execution_count": null,
   "id": "465e19e6",
   "metadata": {},
   "outputs": [],
   "source": [
    "# for name, module in hf_model.named_modules():\n",
    "#     print(f\"{name}: {type(module)}\")"
   ]
  },
  {
   "cell_type": "code",
   "execution_count": null,
   "id": "c811bd8b",
   "metadata": {},
   "outputs": [],
   "source": []
  }
 ],
 "metadata": {
  "kernelspec": {
   "display_name": "playground",
   "language": "python",
   "name": "python3"
  },
  "language_info": {
   "codemirror_mode": {
    "name": "ipython",
    "version": 3
   },
   "file_extension": ".py",
   "mimetype": "text/x-python",
   "name": "python",
   "nbconvert_exporter": "python",
   "pygments_lexer": "ipython3",
   "version": "3.11.8"
  }
 },
 "nbformat": 4,
 "nbformat_minor": 5
}
