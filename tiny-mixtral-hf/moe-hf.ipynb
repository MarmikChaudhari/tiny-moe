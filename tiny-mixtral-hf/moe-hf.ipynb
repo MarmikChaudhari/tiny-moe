{
 "cells": [
  {
   "cell_type": "code",
   "execution_count": null,
   "id": "8c17878a",
   "metadata": {},
   "outputs": [],
   "source": [
    "import os\n",
    "import sys\n",
    "sys.path.append('../')\n",
    "from configuration_tiny_mixtral import TinyMixtralConfig\n",
    "from modeling_tiny_mixtral import TinyMixtralForCausalLM\n",
    "from src.models.moe.config import ModelConfig\n",
    "import torch\n",
    "from dataclasses import asdict\n",
    "from transformers import AutoTokenizer"
   ]
  },
  {
   "cell_type": "code",
   "execution_count": 16,
   "id": "080bb8ef",
   "metadata": {},
   "outputs": [
    {
     "name": "stderr",
     "output_type": "stream",
     "text": [
      "/var/folders/16/7k9wy23d4tgf_rq3jzhdr_yc0000gn/T/ipykernel_87663/824331158.py:14: FutureWarning: You are using `torch.load` with `weights_only=False` (the current default value), which uses the default pickle module implicitly. It is possible to construct malicious pickle data which will execute arbitrary code during unpickling (See https://github.com/pytorch/pytorch/blob/main/SECURITY.md#untrusted-models for more details). In a future release, the default value for `weights_only` will be flipped to `True`. This limits the functions that could be executed during unpickling. Arbitrary objects will no longer be allowed to be loaded via this mode unless they are explicitly allowlisted by the user via `torch.serialization.add_safe_globals`. We recommend you start setting `weights_only=True` for any use case where you don't have full control of the loaded file. Please open an issue on GitHub for any issues related to this experimental feature.\n",
      "  checkpoint = torch.load(checkpoint_path, map_location='cpu')\n",
      "python(88502) MallocStackLogging: can't turn off malloc stack logging because it was not enabled.\n"
     ]
    },
    {
     "data": {
      "application/vnd.jupyter.widget-view+json": {
       "model_id": "bccb19fa036a49329ff3038355c29a1c",
       "version_major": 2,
       "version_minor": 0
      },
      "text/plain": [
       "tokenizer_config.json:   0%|          | 0.00/26.0 [00:00<?, ?B/s]"
      ]
     },
     "metadata": {},
     "output_type": "display_data"
    },
    {
     "data": {
      "application/vnd.jupyter.widget-view+json": {
       "model_id": "3589c0ee10fb43b092291f11cebbf238",
       "version_major": 2,
       "version_minor": 0
      },
      "text/plain": [
       "config.json:   0%|          | 0.00/665 [00:00<?, ?B/s]"
      ]
     },
     "metadata": {},
     "output_type": "display_data"
    },
    {
     "data": {
      "application/vnd.jupyter.widget-view+json": {
       "model_id": "389fadacd5cb4134a5d62747222f225d",
       "version_major": 2,
       "version_minor": 0
      },
      "text/plain": [
       "vocab.json:   0%|          | 0.00/1.04M [00:00<?, ?B/s]"
      ]
     },
     "metadata": {},
     "output_type": "display_data"
    },
    {
     "data": {
      "application/vnd.jupyter.widget-view+json": {
       "model_id": "06a3d725546549d7bbcd0312aa444f93",
       "version_major": 2,
       "version_minor": 0
      },
      "text/plain": [
       "merges.txt:   0%|          | 0.00/456k [00:00<?, ?B/s]"
      ]
     },
     "metadata": {},
     "output_type": "display_data"
    },
    {
     "data": {
      "application/vnd.jupyter.widget-view+json": {
       "model_id": "d05de7d5d41f48c1842b5a4d3c019d8f",
       "version_major": 2,
       "version_minor": 0
      },
      "text/plain": [
       "tokenizer.json:   0%|          | 0.00/1.36M [00:00<?, ?B/s]"
      ]
     },
     "metadata": {},
     "output_type": "display_data"
    }
   ],
   "source": [
    "def convert_checkpoint_to_hf(\n",
    "    checkpoint_path,\n",
    "    output_dir,\n",
    "    config_dict,\n",
    "    tokenizer_name=\"gpt2\"\n",
    "):\n",
    "    \"\"\"Convert your checkpoint to HuggingFace format\"\"\"\n",
    "    \n",
    "    config = TinyMixtralConfig(**config_dict)\n",
    "    \n",
    "    hf_model = TinyMixtralForCausalLM(config)\n",
    "    \n",
    "    # Load your checkpoint\n",
    "    checkpoint = torch.load(checkpoint_path, map_location='cpu')\n",
    "    hf_model.model.load_state_dict(checkpoint['model_state_dict'], strict=False)\n",
    "    \n",
    "    # Load tokenizer\n",
    "    tokenizer = AutoTokenizer.from_pretrained(tokenizer_name)\n",
    "    tokenizer.pad_token = tokenizer.eos_token\n",
    "    \n",
    "    # Save to HuggingFace format\n",
    "    hf_model.save_pretrained(output_dir)\n",
    "    tokenizer.save_pretrained(output_dir)\n",
    "    \n",
    "    return hf_model, tokenizer\n",
    "\n",
    "config_dict = asdict(ModelConfig())\n",
    "config_dict.pop('top_k', None)  # Remove top_k if it exists\n",
    "# Rename to the HF-expected name\n",
    "config_dict['top_k_experts'] = ModelConfig.top_k\n",
    "\n",
    "hf_model, tokenizer = convert_checkpoint_to_hf(\n",
    "    checkpoint_path=\"last_epoch_moe_1.pt\",\n",
    "    output_dir=\"./hf-mixtral\",\n",
    "    config_dict=config_dict\n",
    ")"
   ]
  },
  {
   "cell_type": "code",
   "execution_count": 17,
   "id": "8375bb33",
   "metadata": {},
   "outputs": [
    {
     "data": {
      "application/vnd.jupyter.widget-view+json": {
       "model_id": "a64f4caa4c7b46188a5a4f35b7f6f62c",
       "version_major": 2,
       "version_minor": 0
      },
      "text/plain": [
       "model.safetensors:   0%|          | 0.00/923M [00:00<?, ?B/s]"
      ]
     },
     "metadata": {},
     "output_type": "display_data"
    },
    {
     "name": "stdout",
     "output_type": "stream",
     "text": [
      "Model uploaded to: https://huggingface.co/Marmik/tiny-mixtral-5l-active\n"
     ]
    }
   ],
   "source": [
    "from huggingface_hub import HfApi, create_repo\n",
    "\n",
    "def push_to_hub(\n",
    "    local_dir=\"./hf-mixtral\",\n",
    "    repo_name=\"Marmik/tiny-mixtral-5l-active\",\n",
    "    private=False\n",
    "):\n",
    "    \n",
    "    # Create repository\n",
    "    create_repo(\n",
    "        repo_id=repo_name,\n",
    "        private=False,\n",
    "        exist_ok=True\n",
    "    )\n",
    "    \n",
    "    # Initialize API\n",
    "    api = HfApi()\n",
    "    \n",
    "    # Upload all files\n",
    "    api.upload_folder(\n",
    "        folder_path=local_dir,\n",
    "        repo_id=repo_name,\n",
    "        repo_type=\"model\"\n",
    "    )\n",
    "    \n",
    "    print(f\"Model uploaded to: https://huggingface.co/{repo_name}\")\n",
    "\n",
    "# Push to hub\n",
    "push_to_hub(\n",
    "    local_dir=\"./hf-mixtral\",\n",
    "    repo_name=\"Marmik/tiny-mixtral-5l-active\",\n",
    "    private=False\n",
    ")"
   ]
  },
  {
   "cell_type": "code",
   "execution_count": null,
   "id": "5c557742",
   "metadata": {},
   "outputs": [],
   "source": [
    "state = torch.load(\"last_epoch_moe_1.pt\", map_location=\"cpu\", weights_only=False)\n",
    "state_dict = state['model_state_dict']\n",
    "cfg   = TinyMixtralConfig()\n",
    "hf_model = TinyMixtralForCausalLM(cfg)\n",
    "missing, unexpected = hf_model.model.load_state_dict(state_dict, strict=False)\n",
    "print(missing)\n",
    "print(unexpected)"
   ]
  },
  {
   "cell_type": "code",
   "execution_count": null,
   "id": "87f5f871",
   "metadata": {},
   "outputs": [],
   "source": [
    "# Generate text using the model\n",
    "input_ids = torch.tensor([[68, 26, 1024, 38943, 500]])  # Example input tokens\n",
    "with torch.no_grad():\n",
    "    output = hf_model.generate(\n",
    "        input_ids=input_ids,\n",
    "        max_length=20,\n",
    "        do_sample=True,\n",
    "        temperature=0.7,\n",
    "        pad_token_id=50256\n",
    "    )\n",
    "print(\"Generated output:\", output)"
   ]
  },
  {
   "cell_type": "code",
   "execution_count": null,
   "id": "465e19e6",
   "metadata": {},
   "outputs": [],
   "source": [
    "# for name, module in hf_model.named_modules():\n",
    "#     print(f\"{name}: {type(module)}\")"
   ]
  },
  {
   "cell_type": "code",
   "execution_count": null,
   "id": "c811bd8b",
   "metadata": {},
   "outputs": [],
   "source": []
  }
 ],
 "metadata": {
  "kernelspec": {
   "display_name": "playground",
   "language": "python",
   "name": "python3"
  },
  "language_info": {
   "codemirror_mode": {
    "name": "ipython",
    "version": 3
   },
   "file_extension": ".py",
   "mimetype": "text/x-python",
   "name": "python",
   "nbconvert_exporter": "python",
   "pygments_lexer": "ipython3",
   "version": "3.11.8"
  }
 },
 "nbformat": 4,
 "nbformat_minor": 5
}
