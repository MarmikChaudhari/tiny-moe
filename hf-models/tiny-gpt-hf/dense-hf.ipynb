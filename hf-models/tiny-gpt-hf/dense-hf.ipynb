{
 "cells": [
  {
   "cell_type": "code",
   "execution_count": null,
   "id": "f23a1932",
   "metadata": {},
   "outputs": [],
   "source": [
    "import sys\n",
    "sys.path.append('../')\n",
    "from configuration_tiny_gpt import TinyGPTConfig\n",
    "from modeling_tiny_gpt import TinyGPTForCausalLM\n",
    "from src.models.dense.config import ModelConfig\n",
    "import torch\n",
    "from dataclasses import asdict\n",
    "from transformers import AutoTokenizer\n",
    "import shutil"
   ]
  },
  {
   "cell_type": "code",
   "execution_count": null,
   "id": "d4d74119",
   "metadata": {},
   "outputs": [
    {
     "name": "stderr",
     "output_type": "stream",
     "text": [
      "/var/folders/16/7k9wy23d4tgf_rq3jzhdr_yc0000gn/T/ipykernel_98521/2313183862.py:14: FutureWarning: You are using `torch.load` with `weights_only=False` (the current default value), which uses the default pickle module implicitly. It is possible to construct malicious pickle data which will execute arbitrary code during unpickling (See https://github.com/pytorch/pytorch/blob/main/SECURITY.md#untrusted-models for more details). In a future release, the default value for `weights_only` will be flipped to `True`. This limits the functions that could be executed during unpickling. Arbitrary objects will no longer be allowed to be loaded via this mode unless they are explicitly allowlisted by the user via `torch.serialization.add_safe_globals`. We recommend you start setting `weights_only=True` for any use case where you don't have full control of the loaded file. Please open an issue on GitHub for any issues related to this experimental feature.\n",
      "  checkpoint = torch.load(checkpoint_path, map_location='cpu')\n"
     ]
    },
    {
     "name": "stdout",
     "output_type": "stream",
     "text": [
      "TinyGPTForCausalLM(\n",
      "  (model): tiny_gpt(\n",
      "    (tok_embedding): Embedding(50257, 768)\n",
      "    (layers): ModuleList(\n",
      "      (0-4): 5 x layer(\n",
      "        (attention): SimpleMultiHeadAttention(\n",
      "          (c_attn): Linear(in_features=768, out_features=2304, bias=False)\n",
      "          (c_proj): Linear(in_features=768, out_features=768, bias=False)\n",
      "          (attn_dropout): Dropout(p=0.0, inplace=False)\n",
      "          (resid_dropout): Dropout(p=0.0, inplace=False)\n",
      "        )\n",
      "        (ffn): SwiGLUFFN(\n",
      "          (w_1): Linear(in_features=768, out_features=3072, bias=True)\n",
      "          (w_2): Linear(in_features=768, out_features=3072, bias=True)\n",
      "          (out): Linear(in_features=3072, out_features=768, bias=True)\n",
      "        )\n",
      "        (attn_norm): RMSNorm()\n",
      "        (ffn_norm): RMSNorm()\n",
      "      )\n",
      "    )\n",
      "    (norm): RMSNorm()\n",
      "    (output): Linear(in_features=768, out_features=50257, bias=True)\n",
      "  )\n",
      ")\n"
     ]
    }
   ],
   "source": [
    "def convert_checkpoint_to_hf(\n",
    "    checkpoint_path,\n",
    "    output_dir,\n",
    "    config_dict,\n",
    "    tokenizer_name=\"gpt2\"\n",
    "):\n",
    "    \"\"\"Convert your checkpoint to HuggingFace format\"\"\"\n",
    "    shutil.copy(\"modeling_tiny_gpt.py\", f\"{output_dir}/modeling_tiny_gpt.py\")\n",
    "    config = TinyGPTConfig(**config_dict)\n",
    "    \n",
    "    hf_model = TinyGPTForCausalLM(config)\n",
    "    \n",
    "    # load your checkpoint\n",
    "    checkpoint = torch.load(checkpoint_path, map_location='cpu')\n",
    "    hf_model.model.load_state_dict(checkpoint['model_state_dict'], strict=False)\n",
    "    \n",
    "    # load tokenizer\n",
    "    tokenizer = AutoTokenizer.from_pretrained(tokenizer_name)\n",
    "    tokenizer.pad_token = tokenizer.eos_token\n",
    "    \n",
    "    # save to HuggingFace format\n",
    "    hf_model.save_pretrained(output_dir)\n",
    "    tokenizer.save_pretrained(output_dir)\n",
    "    \n",
    "    return hf_model, tokenizer\n",
    "\n",
    "config_dict = asdict(ModelConfig())\n",
    "\n",
    "hf_model, tokenizer = convert_checkpoint_to_hf(\n",
    "    checkpoint_path=\"dense_step_9000.pt\",\n",
    "    output_dir=\"./hf-tiny-gpt\",\n",
    "    config_dict=config_dict\n",
    ")\n",
    "print(hf_model)"
   ]
  },
  {
   "cell_type": "code",
   "execution_count": 8,
   "id": "ba23c17a",
   "metadata": {},
   "outputs": [
    {
     "data": {
      "application/vnd.jupyter.widget-view+json": {
       "model_id": "94ab54372f4f482a9c0baa423956f891",
       "version_major": 2,
       "version_minor": 0
      },
      "text/plain": [
       "model.safetensors:   0%|          | 0.00/498M [00:00<?, ?B/s]"
      ]
     },
     "metadata": {},
     "output_type": "display_data"
    },
    {
     "name": "stdout",
     "output_type": "stream",
     "text": [
      "Model uploaded to: https://huggingface.co/Marmik/tiny-gpt\n"
     ]
    }
   ],
   "source": [
    "from huggingface_hub import HfApi, create_repo\n",
    "\n",
    "def push_to_hub(\n",
    "    local_dir=\"./hf-tiny-gpt\",\n",
    "    repo_name=\"Marmik/tiny-gpt\",\n",
    "    private=False\n",
    "):\n",
    "    \n",
    "    # create repository\n",
    "    create_repo(\n",
    "        repo_id=repo_name,\n",
    "        private=False,\n",
    "        exist_ok=True\n",
    "    )\n",
    "    \n",
    "    # initialize API\n",
    "    api = HfApi()\n",
    "    \n",
    "    # upload all files\n",
    "    api.upload_folder(\n",
    "        folder_path=local_dir,\n",
    "        repo_id=repo_name,\n",
    "        repo_type=\"model\"\n",
    "    )\n",
    "    \n",
    "    print(f\"Model uploaded to: https://huggingface.co/{repo_name}\")\n",
    "\n",
    "# push to hub\n",
    "push_to_hub(\n",
    "    local_dir=\"./hf-tiny-gpt\",\n",
    "    repo_name=\"Marmik/tiny-gpt\",\n",
    "    private=False\n",
    ")"
   ]
  },
  {
   "cell_type": "code",
   "execution_count": null,
   "id": "bdbc6f0d",
   "metadata": {},
   "outputs": [],
   "source": []
  }
 ],
 "metadata": {
  "kernelspec": {
   "display_name": "playground",
   "language": "python",
   "name": "python3"
  },
  "language_info": {
   "codemirror_mode": {
    "name": "ipython",
    "version": 3
   },
   "file_extension": ".py",
   "mimetype": "text/x-python",
   "name": "python",
   "nbconvert_exporter": "python",
   "pygments_lexer": "ipython3",
   "version": "3.11.8"
  }
 },
 "nbformat": 4,
 "nbformat_minor": 5
}
